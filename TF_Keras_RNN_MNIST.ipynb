{
  "nbformat": 4,
  "nbformat_minor": 0,
  "metadata": {
    "colab": {
      "name": "TF Keras RNN MNIST.ipynb",
      "provenance": [],
      "authorship_tag": "ABX9TyPJjYwXsPuhypl4k3BFVBPr",
      "include_colab_link": true
    },
    "kernelspec": {
      "name": "python3",
      "display_name": "Python 3"
    },
    "language_info": {
      "name": "python"
    }
  },
  "cells": [
    {
      "cell_type": "markdown",
      "metadata": {
        "id": "view-in-github",
        "colab_type": "text"
      },
      "source": [
        "<a href=\"https://colab.research.google.com/github/SunilKumarSingh84/Keras/blob/main/TF_Keras_RNN_MNIST.ipynb\" target=\"_parent\"><img src=\"https://colab.research.google.com/assets/colab-badge.svg\" alt=\"Open In Colab\"/></a>"
      ]
    },
    {
      "cell_type": "code",
      "metadata": {
        "id": "uOH2-1825e75"
      },
      "source": [
        "import numpy as np, pandas as pd, matplotlib.pyplot as plt\n",
        "import tensorflow\n",
        "from tensorflow.keras.models import Model\n",
        "from tensorflow.keras.layers import Input, Dense, SimpleRNN, GRU, LSTM, Flatten\n",
        "from tensorflow.keras.optimizers import SGD, Adam"
      ],
      "execution_count": 9,
      "outputs": []
    },
    {
      "cell_type": "code",
      "metadata": {
        "colab": {
          "base_uri": "https://localhost:8080/"
        },
        "id": "jp1NtIZR64Tn",
        "outputId": "2eba6686-4adf-4ee1-f88e-5c228a309a32"
      },
      "source": [
        "#Load MNIST data from tf datasets\n",
        "(X_train, y_train), (X_test, y_test) = tensorflow.keras.datasets.mnist.load_data()\n",
        "X_train, X_test = X_train/255.0, X_test/255.0\n",
        "print(\"X_train.shape:\", X_train.shape)\n",
        "print(\"y_train.shape:\", y_train.shape)\n",
        "\n",
        "#plt.imshow(X_train[np.random.randint(1,1000)], cmap='gray')"
      ],
      "execution_count": 37,
      "outputs": [
        {
          "output_type": "stream",
          "name": "stdout",
          "text": [
            "X_train.shape: (60000, 28, 28)\n",
            "y_train.shape: (60000,)\n"
          ]
        }
      ]
    },
    {
      "cell_type": "code",
      "metadata": {
        "colab": {
          "base_uri": "https://localhost:8080/"
        },
        "id": "1sDz4CTl7efq",
        "outputId": "116a499f-02d1-4114-9822-49dae9fdb473"
      },
      "source": [
        "N, T, D = X_train.shape\n",
        "K = 10\n",
        "\n",
        "i = Input(shape=(T,D))\n",
        "x = LSTM(20)(i)\n",
        "x = Dense(K, activation = 'softmax')(x)\n",
        "\n",
        "model = Model(i, x)\n",
        "model.compile(loss = 'sparse_categorical_crossentropy', optimizer = 'adam', metrics=['accuracy'])\n",
        "\n",
        "\n",
        "r = model.fit(X_train, y_train, validation_data = (X_test, y_test), epochs = 10)"
      ],
      "execution_count": 11,
      "outputs": [
        {
          "output_type": "stream",
          "name": "stdout",
          "text": [
            "Epoch 1/10\n",
            "1875/1875 [==============================] - 18s 9ms/step - loss: 0.8234 - accuracy: 0.7466 - val_loss: 0.3748 - val_accuracy: 0.8898\n",
            "Epoch 2/10\n",
            "1875/1875 [==============================] - 16s 9ms/step - loss: 0.2956 - accuracy: 0.9140 - val_loss: 0.2460 - val_accuracy: 0.9279\n",
            "Epoch 3/10\n",
            "1875/1875 [==============================] - 16s 9ms/step - loss: 0.2127 - accuracy: 0.9387 - val_loss: 0.1902 - val_accuracy: 0.9436\n",
            "Epoch 4/10\n",
            "1875/1875 [==============================] - 16s 8ms/step - loss: 0.1703 - accuracy: 0.9506 - val_loss: 0.1548 - val_accuracy: 0.9523\n",
            "Epoch 5/10\n",
            "1875/1875 [==============================] - 16s 9ms/step - loss: 0.1460 - accuracy: 0.9565 - val_loss: 0.1460 - val_accuracy: 0.9563\n",
            "Epoch 6/10\n",
            "1875/1875 [==============================] - 16s 9ms/step - loss: 0.1311 - accuracy: 0.9615 - val_loss: 0.1160 - val_accuracy: 0.9651\n",
            "Epoch 7/10\n",
            "1875/1875 [==============================] - 16s 9ms/step - loss: 0.1186 - accuracy: 0.9653 - val_loss: 0.1112 - val_accuracy: 0.9668\n",
            "Epoch 8/10\n",
            "1875/1875 [==============================] - 16s 9ms/step - loss: 0.1067 - accuracy: 0.9684 - val_loss: 0.1050 - val_accuracy: 0.9699\n",
            "Epoch 9/10\n",
            "1875/1875 [==============================] - 16s 8ms/step - loss: 0.0998 - accuracy: 0.9700 - val_loss: 0.1005 - val_accuracy: 0.9702\n",
            "Epoch 10/10\n",
            "1875/1875 [==============================] - 16s 9ms/step - loss: 0.0951 - accuracy: 0.9715 - val_loss: 0.0917 - val_accuracy: 0.9733\n"
          ]
        }
      ]
    },
    {
      "cell_type": "code",
      "metadata": {
        "colab": {
          "base_uri": "https://localhost:8080/",
          "height": 265
        },
        "id": "ykwPbPSGBxFk",
        "outputId": "d8af5429-d703-46a8-8529-d50f3293c715"
      },
      "source": [
        "plt.subplot(1,2,1)\n",
        "plt.plot(r.history['loss'], label = 'loss')\n",
        "plt.plot(r.history['val_loss'], label = 'val_loss')\n",
        "plt.legend()\n",
        "\n",
        "plt.subplot(1,2,2)\n",
        "plt.plot(r.history['accuracy'], label = 'accuracy')\n",
        "plt.plot(r.history['val_accuracy'], label = 'val_accuracy')\n",
        "plt.legend()\n",
        "\n",
        "plt.show()"
      ],
      "execution_count": 38,
      "outputs": [
        {
          "output_type": "display_data",
          "data": {
            "image/png": "[encoded data removed]",
            "text/plain": [
              "<Figure size 432x288 with 2 Axes>"
            ]
          },
          "metadata": {
            "needs_background": "light"
          }
        }
      ]
    },
    {
      "cell_type": "code",
      "metadata": {
        "id": "NCWpNdKaEoBc"
      },
      "source": [
        "p_test = model.predict(X_test).argmax(axis=1)"
      ],
      "execution_count": 21,
      "outputs": []
    },
    {
      "cell_type": "code",
      "metadata": {
        "colab": {
          "base_uri": "https://localhost:8080/"
        },
        "id": "Z71zRH7MFRZZ",
        "outputId": "d1835cac-a93d-4165-9f0b-3559f7e8ef8c"
      },
      "source": [
        "from sklearn.metrics import confusion_matrix\n",
        "confusion_matrix(y_test, p_test)"
      ],
      "execution_count": 22,
      "outputs": [
        {
          "output_type": "execute_result",
          "data": {
            "text/plain": [
              "array([[ 964,    0,    0,    1,    0,    0,    2,    1,   10,    2],\n",
              "       [   0, 1126,    4,    0,    0,    0,    1,    0,    4,    0],\n",
              "       [   1,    4, 1007,    4,    1,    1,    1,    3,   10,    0],\n",
              "       [   0,    2,    7,  985,    0,    3,    0,    6,    5,    2],\n",
              "       [   1,    2,    1,    0,  940,    0,    5,    2,    8,   23],\n",
              "       [   0,    2,    1,   14,    0,  859,    3,    1,   11,    1],\n",
              "       [   5,    4,    1,    0,    6,    6,  931,    0,    4,    1],\n",
              "       [   0,    6,   11,    4,    2,    0,    0,  988,    3,   14],\n",
              "       [   2,    0,    3,    7,    3,    3,    1,    1,  951,    3],\n",
              "       [   1,    1,    0,    2,    5,    0,    0,    4,   14,  982]])"
            ]
          },
          "metadata": {},
          "execution_count": 22
        }
      ]
    },
    {
      "cell_type": "code",
      "metadata": {
        "colab": {
          "base_uri": "https://localhost:8080/",
          "height": 298
        },
        "id": "MDvU1a0UFbIH",
        "outputId": "0e5ea8c5-b347-48ef-f904-92c141c3597b"
      },
      "source": [
        "misclassified_idx = np.where(p_test != y_test)[0]\n",
        "i = np.random.choice(misclassified_idx)\n",
        "plt.imshow(X_test[i], cmap='gray')\n",
        "plt.title(\"True Label: %s Predicted Label: %s\" %(y_test[i], p_test[i]))"
      ],
      "execution_count": 23,
      "outputs": [
        {
          "output_type": "execute_result",
          "data": {
            "text/plain": [
              "Text(0.5, 1.0, 'True Label: 2 Predicted Label: 7')"
            ]
          },
          "metadata": {},
          "execution_count": 23
        },
        {
          "output_type": "display_data",
          "data": {
            "image/png": "[encoded data removed]",
            "text/plain": [
              "<Figure size 432x288 with 1 Axes>"
            ]
          },
          "metadata": {
            "needs_background": "light"
          }
        }
      ]
    }
  ]
}