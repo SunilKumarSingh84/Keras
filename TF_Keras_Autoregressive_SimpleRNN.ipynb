{
  "nbformat": 4,
  "nbformat_minor": 0,
  "metadata": {
    "colab": {
      "name": "TF Keras - Autoregressive SimpleRNN.ipynb",
      "provenance": [],
      "authorship_tag": "ABX9TyN/ASZC0d2W0m7NGDxqKUhh",
      "include_colab_link": true
    },
    "kernelspec": {
      "name": "python3",
      "display_name": "Python 3"
    },
    "language_info": {
      "name": "python"
    }
  },
  "cells": [
    {
      "cell_type": "markdown",
      "metadata": {
        "id": "view-in-github",
        "colab_type": "text"
      },
      "source": [
        "<a href=\"https://colab.research.google.com/github/SunilKumarSingh84/Keras/blob/main/TF_Keras_Autoregressive_SimpleRNN.ipynb\" target=\"_parent\"><img src=\"https://colab.research.google.com/assets/colab-badge.svg\" alt=\"Open In Colab\"/></a>"
      ]
    },
    {
      "cell_type": "code",
      "metadata": {
        "id": "TlDN9wKep3G5"
      },
      "source": [
        "import numpy as np, pandas as pd, matplotlib.pyplot as plt\n",
        "from tensorflow.keras.models import Model\n",
        "from tensorflow.keras.layers import Input, Dense, SimpleRNN, Flatten\n",
        "from tensorflow.keras.optimizers import SGD, Adam"
      ],
      "execution_count": 20,
      "outputs": []
    },
    {
      "cell_type": "code",
      "metadata": {
        "colab": {
          "base_uri": "https://localhost:8080/",
          "height": 265
        },
        "id": "H_ZXqUZHqELR",
        "outputId": "046e016b-0307-4092-d6fb-688e8cdba80e"
      },
      "source": [
        "#Synthetic data\n",
        "series = np.sin(0.1*np.arange(200)) #+ np.random.randn(200)*0.1\n",
        "plt.plot(series)\n",
        "plt.show()"
      ],
      "execution_count": 21,
      "outputs": [
        {
          "output_type": "display_data",
          "data": {
            "image/png": "[encoded data removed]",
            "text/plain": [
              "<Figure size 432x288 with 1 Axes>"
            ]
          },
          "metadata": {
            "needs_background": "light"
          }
        }
      ]
    },
    {
      "cell_type": "code",
      "metadata": {
        "colab": {
          "base_uri": "https://localhost:8080/"
        },
        "id": "1032Z3sXqHye",
        "outputId": "5af4ec46-ffac-4e8e-d589-cd8a51943861"
      },
      "source": [
        "T=10\n",
        "D=1\n",
        "X=[]\n",
        "Y=[]\n",
        "\n",
        "for t in range(len(series)-T):\n",
        "  x = series[t:t+T]\n",
        "  X.append(x)\n",
        "  y = series[t+T]\n",
        "  Y.append(y)\n",
        "\n",
        "X = np.array(X).reshape(-1,T,1) # data should be NxTxD\n",
        "Y = np.array(Y)\n",
        "N = len(X)\n",
        "\n",
        "print(\"X.shape:\", X.shape, \"Y.shape\", Y.shape)"
      ],
      "execution_count": 22,
      "outputs": [
        {
          "output_type": "stream",
          "name": "stdout",
          "text": [
            "X.shape: (190, 10, 1) Y.shape (190,)\n"
          ]
        }
      ]
    },
    {
      "cell_type": "code",
      "metadata": {
        "colab": {
          "base_uri": "https://localhost:8080/"
        },
        "id": "k36V7LT_qSaY",
        "outputId": "9312fe98-680e-4f68-fc97-7bb244a65de8"
      },
      "source": [
        "#try autoregressive SimpleRNN\n",
        "i = Input(shape=(T,1))\n",
        "x = SimpleRNN(5, activation='relu')(i) #default activation is not none for RNN, it is tanh\n",
        "x = Dense(1)(x)\n",
        "\n",
        "model = Model(i,x)\n",
        "model.compile(loss='mse', optimizer = Adam(lr=0.1))\n",
        "\n",
        "r= model.fit(X[:N//2], Y[:N//2], epochs=80, validation_data= (X[N//2:], Y[N//2:]))"
      ],
      "execution_count": 27,
      "outputs": [
        {
          "output_type": "stream",
          "name": "stderr",
          "text": [
            "/usr/local/lib/python3.7/dist-packages/keras/optimizer_v2/optimizer_v2.py:356: UserWarning: The `lr` argument is deprecated, use `learning_rate` instead.\n",
            "  \"The `lr` argument is deprecated, use `learning_rate` instead.\")\n"
          ]
        },
        {
          "output_type": "stream",
          "name": "stdout",
          "text": [
            "Epoch 1/80\n",
            "3/3 [==============================] - 1s 120ms/step - loss: 0.2127 - val_loss: 0.1693\n",
            "Epoch 2/80\n",
            "3/3 [==============================] - 0s 18ms/step - loss: 0.1338 - val_loss: 0.1033\n",
            "Epoch 3/80\n",
            "3/3 [==============================] - 0s 19ms/step - loss: 0.0605 - val_loss: 0.0198\n",
            "Epoch 4/80\n",
            "3/3 [==============================] - 0s 18ms/step - loss: 0.0166 - val_loss: 0.0404\n",
            "Epoch 5/80\n",
            "3/3 [==============================] - 0s 27ms/step - loss: 0.0259 - val_loss: 0.0398\n",
            "Epoch 6/80\n",
            "3/3 [==============================] - 0s 18ms/step - loss: 0.0157 - val_loss: 0.0105\n",
            "Epoch 7/80\n",
            "3/3 [==============================] - 0s 17ms/step - loss: 0.0121 - val_loss: 0.0075\n",
            "Epoch 8/80\n",
            "3/3 [==============================] - 0s 23ms/step - loss: 0.0076 - val_loss: 0.0097\n",
            "Epoch 9/80\n",
            "3/3 [==============================] - 0s 20ms/step - loss: 0.0054 - val_loss: 0.0047\n",
            "Epoch 10/80\n",
            "3/3 [==============================] - 0s 23ms/step - loss: 0.0061 - val_loss: 0.0027\n",
            "Epoch 11/80\n",
            "3/3 [==============================] - 0s 19ms/step - loss: 0.0037 - val_loss: 0.0061\n",
            "Epoch 12/80\n",
            "3/3 [==============================] - 0s 19ms/step - loss: 0.0033 - val_loss: 0.0016\n",
            "Epoch 13/80\n",
            "3/3 [==============================] - 0s 29ms/step - loss: 0.0038 - val_loss: 0.0023\n",
            "Epoch 14/80\n",
            "3/3 [==============================] - 0s 14ms/step - loss: 0.0025 - val_loss: 0.0044\n",
            "Epoch 15/80\n",
            "3/3 [==============================] - 0s 16ms/step - loss: 0.0027 - val_loss: 0.0025\n",
            "Epoch 16/80\n",
            "3/3 [==============================] - 0s 14ms/step - loss: 0.0026 - val_loss: 0.0012\n",
            "Epoch 17/80\n",
            "3/3 [==============================] - 0s 17ms/step - loss: 0.0019 - val_loss: 0.0036\n",
            "Epoch 18/80\n",
            "3/3 [==============================] - 0s 16ms/step - loss: 0.0019 - val_loss: 0.0012\n",
            "Epoch 19/80\n",
            "3/3 [==============================] - 0s 16ms/step - loss: 0.0018 - val_loss: 0.0017\n",
            "Epoch 20/80\n",
            "3/3 [==============================] - 0s 15ms/step - loss: 0.0014 - val_loss: 0.0023\n",
            "Epoch 21/80\n",
            "3/3 [==============================] - 0s 15ms/step - loss: 0.0016 - val_loss: 0.0014\n",
            "Epoch 22/80\n",
            "3/3 [==============================] - 0s 15ms/step - loss: 0.0014 - val_loss: 0.0012\n",
            "Epoch 23/80\n",
            "3/3 [==============================] - 0s 15ms/step - loss: 0.0012 - val_loss: 0.0017\n",
            "Epoch 24/80\n",
            "3/3 [==============================] - 0s 14ms/step - loss: 0.0012 - val_loss: 0.0012\n",
            "Epoch 25/80\n",
            "3/3 [==============================] - 0s 16ms/step - loss: 0.0012 - val_loss: 0.0013\n",
            "Epoch 26/80\n",
            "3/3 [==============================] - 0s 14ms/step - loss: 0.0011 - val_loss: 0.0013\n",
            "Epoch 27/80\n",
            "3/3 [==============================] - 0s 15ms/step - loss: 0.0010 - val_loss: 0.0012\n",
            "Epoch 28/80\n",
            "3/3 [==============================] - 0s 16ms/step - loss: 9.6950e-04 - val_loss: 0.0011\n",
            "Epoch 29/80\n",
            "3/3 [==============================] - 0s 15ms/step - loss: 9.4813e-04 - val_loss: 0.0011\n",
            "Epoch 30/80\n",
            "3/3 [==============================] - 0s 16ms/step - loss: 8.2530e-04 - val_loss: 0.0010\n",
            "Epoch 31/80\n",
            "3/3 [==============================] - 0s 22ms/step - loss: 8.0360e-04 - val_loss: 9.2009e-04\n",
            "Epoch 32/80\n",
            "3/3 [==============================] - 0s 15ms/step - loss: 8.5842e-04 - val_loss: 8.1301e-04\n",
            "Epoch 33/80\n",
            "3/3 [==============================] - 0s 16ms/step - loss: 8.5593e-04 - val_loss: 0.0011\n",
            "Epoch 34/80\n",
            "3/3 [==============================] - 0s 20ms/step - loss: 8.1294e-04 - val_loss: 9.3846e-04\n",
            "Epoch 35/80\n",
            "3/3 [==============================] - 0s 16ms/step - loss: 8.6218e-04 - val_loss: 8.9086e-04\n",
            "Epoch 36/80\n",
            "3/3 [==============================] - 0s 25ms/step - loss: 7.8068e-04 - val_loss: 0.0010\n",
            "Epoch 37/80\n",
            "3/3 [==============================] - 0s 15ms/step - loss: 7.9687e-04 - val_loss: 8.3258e-04\n",
            "Epoch 38/80\n",
            "3/3 [==============================] - 0s 15ms/step - loss: 7.5006e-04 - val_loss: 8.8441e-04\n",
            "Epoch 39/80\n",
            "3/3 [==============================] - 0s 16ms/step - loss: 8.0614e-04 - val_loss: 9.3809e-04\n",
            "Epoch 40/80\n",
            "3/3 [==============================] - 0s 15ms/step - loss: 7.9407e-04 - val_loss: 7.6726e-04\n",
            "Epoch 41/80\n",
            "3/3 [==============================] - 0s 15ms/step - loss: 7.3786e-04 - val_loss: 9.4320e-04\n",
            "Epoch 42/80\n",
            "3/3 [==============================] - 0s 17ms/step - loss: 8.2435e-04 - val_loss: 9.0397e-04\n",
            "Epoch 43/80\n",
            "3/3 [==============================] - 0s 21ms/step - loss: 9.5876e-04 - val_loss: 7.6898e-04\n",
            "Epoch 44/80\n",
            "3/3 [==============================] - 0s 16ms/step - loss: 7.7355e-04 - val_loss: 0.0011\n",
            "Epoch 45/80\n",
            "3/3 [==============================] - 0s 15ms/step - loss: 8.8375e-04 - val_loss: 7.4929e-04\n",
            "Epoch 46/80\n",
            "3/3 [==============================] - 0s 16ms/step - loss: 8.7501e-04 - val_loss: 9.2487e-04\n",
            "Epoch 47/80\n",
            "3/3 [==============================] - 0s 15ms/step - loss: 8.3817e-04 - val_loss: 7.3921e-04\n",
            "Epoch 48/80\n",
            "3/3 [==============================] - 0s 15ms/step - loss: 8.0189e-04 - val_loss: 0.0012\n",
            "Epoch 49/80\n",
            "3/3 [==============================] - 0s 16ms/step - loss: 7.3919e-04 - val_loss: 8.0310e-04\n",
            "Epoch 50/80\n",
            "3/3 [==============================] - 0s 15ms/step - loss: 7.7803e-04 - val_loss: 8.1106e-04\n",
            "Epoch 51/80\n",
            "3/3 [==============================] - 0s 14ms/step - loss: 7.4185e-04 - val_loss: 6.9309e-04\n",
            "Epoch 52/80\n",
            "3/3 [==============================] - 0s 22ms/step - loss: 7.4900e-04 - val_loss: 8.0439e-04\n",
            "Epoch 53/80\n",
            "3/3 [==============================] - 0s 16ms/step - loss: 7.9002e-04 - val_loss: 6.3311e-04\n",
            "Epoch 54/80\n",
            "3/3 [==============================] - 0s 24ms/step - loss: 7.0420e-04 - val_loss: 6.8563e-04\n",
            "Epoch 55/80\n",
            "3/3 [==============================] - 0s 17ms/step - loss: 6.5447e-04 - val_loss: 8.6003e-04\n",
            "Epoch 56/80\n",
            "3/3 [==============================] - 0s 15ms/step - loss: 6.6891e-04 - val_loss: 6.6386e-04\n",
            "Epoch 57/80\n",
            "3/3 [==============================] - 0s 15ms/step - loss: 6.3326e-04 - val_loss: 6.6947e-04\n",
            "Epoch 58/80\n",
            "3/3 [==============================] - 0s 16ms/step - loss: 7.0324e-04 - val_loss: 6.5155e-04\n",
            "Epoch 59/80\n",
            "3/3 [==============================] - 0s 16ms/step - loss: 6.4947e-04 - val_loss: 6.7091e-04\n",
            "Epoch 60/80\n",
            "3/3 [==============================] - 0s 17ms/step - loss: 6.3496e-04 - val_loss: 7.8412e-04\n",
            "Epoch 61/80\n",
            "3/3 [==============================] - 0s 20ms/step - loss: 6.6715e-04 - val_loss: 6.7205e-04\n",
            "Epoch 62/80\n",
            "3/3 [==============================] - 0s 17ms/step - loss: 6.3035e-04 - val_loss: 5.9710e-04\n",
            "Epoch 63/80\n",
            "3/3 [==============================] - 0s 17ms/step - loss: 7.0390e-04 - val_loss: 5.8415e-04\n",
            "Epoch 64/80\n",
            "3/3 [==============================] - 0s 16ms/step - loss: 7.4700e-04 - val_loss: 7.3908e-04\n",
            "Epoch 65/80\n",
            "3/3 [==============================] - 0s 18ms/step - loss: 6.9058e-04 - val_loss: 6.1907e-04\n",
            "Epoch 66/80\n",
            "3/3 [==============================] - 0s 18ms/step - loss: 6.6297e-04 - val_loss: 5.5552e-04\n",
            "Epoch 67/80\n",
            "3/3 [==============================] - 0s 16ms/step - loss: 6.3674e-04 - val_loss: 4.7574e-04\n",
            "Epoch 68/80\n",
            "3/3 [==============================] - 0s 17ms/step - loss: 6.3281e-04 - val_loss: 6.6680e-04\n",
            "Epoch 69/80\n",
            "3/3 [==============================] - 0s 19ms/step - loss: 5.6903e-04 - val_loss: 5.0895e-04\n",
            "Epoch 70/80\n",
            "3/3 [==============================] - 0s 15ms/step - loss: 5.1404e-04 - val_loss: 6.0256e-04\n",
            "Epoch 71/80\n",
            "3/3 [==============================] - 0s 15ms/step - loss: 4.7565e-04 - val_loss: 3.9398e-04\n",
            "Epoch 72/80\n",
            "3/3 [==============================] - 0s 15ms/step - loss: 4.8600e-04 - val_loss: 4.1120e-04\n",
            "Epoch 73/80\n",
            "3/3 [==============================] - 0s 16ms/step - loss: 4.8479e-04 - val_loss: 3.5747e-04\n",
            "Epoch 74/80\n",
            "3/3 [==============================] - 0s 15ms/step - loss: 3.8124e-04 - val_loss: 6.0954e-04\n",
            "Epoch 75/80\n",
            "3/3 [==============================] - 0s 16ms/step - loss: 3.9685e-04 - val_loss: 2.6920e-04\n",
            "Epoch 76/80\n",
            "3/3 [==============================] - 0s 17ms/step - loss: 2.8744e-04 - val_loss: 4.4306e-04\n",
            "Epoch 77/80\n",
            "3/3 [==============================] - 0s 19ms/step - loss: 2.7393e-04 - val_loss: 2.3627e-04\n",
            "Epoch 78/80\n",
            "3/3 [==============================] - 0s 17ms/step - loss: 2.2292e-04 - val_loss: 2.2553e-04\n",
            "Epoch 79/80\n",
            "3/3 [==============================] - 0s 21ms/step - loss: 2.3535e-04 - val_loss: 1.2969e-04\n",
            "Epoch 80/80\n",
            "3/3 [==============================] - 0s 18ms/step - loss: 1.6496e-04 - val_loss: 9.2550e-05\n"
          ]
        }
      ]
    },
    {
      "cell_type": "code",
      "metadata": {
        "colab": {
          "base_uri": "https://localhost:8080/",
          "height": 282
        },
        "id": "0mFPFLOPqnnl",
        "outputId": "cc9fad51-9aec-48f3-ad99-2134b3b7136d"
      },
      "source": [
        "plt.plot(r.history['loss'], label = 'loss')\n",
        "plt.plot(r.history['val_loss'], label = 'val_loss')\n",
        "plt.legend()"
      ],
      "execution_count": 28,
      "outputs": [
        {
          "output_type": "execute_result",
          "data": {
            "text/plain": [
              "<matplotlib.legend.Legend at 0x7fe69fc6a250>"
            ]
          },
          "metadata": {},
          "execution_count": 28
        },
        {
          "output_type": "display_data",
          "data": {
            "image/png": "[encoded data removed]",
            "text/plain": [
              "<Figure size 432x288 with 1 Axes>"
            ]
          },
          "metadata": {
            "needs_background": "light"
          }
        }
      ]
    },
    {
      "cell_type": "code",
      "metadata": {
        "id": "VvePAXEeqocO"
      },
      "source": [
        "validation_target = Y[N//2:]\n",
        "validation_predictions = []\n",
        "\n",
        "last_x = X[N//2]  #1-D array of length T\n",
        "\n",
        "while len(validation_predictions) < len(validation_target):\n",
        "  p = model.predict(last_x.reshape(1,-1, 1))[0,0] #1x1 array scalar\n",
        "\n",
        "  validation_predictions.append(p)\n",
        "\n",
        "  last_x = np.roll(last_x, -1)\n",
        "  last_x[-1] = p"
      ],
      "execution_count": 29,
      "outputs": []
    },
    {
      "cell_type": "code",
      "metadata": {
        "colab": {
          "base_uri": "https://localhost:8080/",
          "height": 285
        },
        "id": "E7bMvig7q9uf",
        "outputId": "43554c9f-df72-4199-b0bc-f108ae331fa6"
      },
      "source": [
        "plt.plot(validation_target, label = 'forecast target')\n",
        "plt.plot(validation_predictions, label = 'forecast prediction')\n",
        "plt.legend()"
      ],
      "execution_count": 30,
      "outputs": [
        {
          "output_type": "execute_result",
          "data": {
            "text/plain": [
              "<matplotlib.legend.Legend at 0x7fe6a13da550>"
            ]
          },
          "metadata": {},
          "execution_count": 30
        },
        {
          "output_type": "display_data",
          "data": {
            "image/png": "[encoded data removed]",
            "text/plain": [
              "<Figure size 432x288 with 1 Axes>"
            ]
          },
          "metadata": {
            "needs_background": "light"
          }
        }
      ]
    }
  ]
}