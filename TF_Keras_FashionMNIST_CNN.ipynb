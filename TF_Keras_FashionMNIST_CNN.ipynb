{
  "nbformat": 4,
  "nbformat_minor": 0,
  "metadata": {
    "colab": {
      "name": "TF Keras FashionMNIST CNN.ipynb",
      "provenance": [],
      "authorship_tag": "ABX9TyOEeTDH/H3M6IMwjrY47FK2",
      "include_colab_link": true
    },
    "kernelspec": {
      "name": "python3",
      "display_name": "Python 3"
    },
    "language_info": {
      "name": "python"
    }
  },
  "cells": [
    {
      "cell_type": "markdown",
      "metadata": {
        "id": "view-in-github",
        "colab_type": "text"
      },
      "source": [
        "<a href=\"https://colab.research.google.com/github/SunilKumarSingh84/Keras/blob/main/TF_Keras_FashionMNIST_CNN.ipynb\" target=\"_parent\"><img src=\"https://colab.research.google.com/assets/colab-badge.svg\" alt=\"Open In Colab\"/></a>"
      ]
    },
    {
      "cell_type": "code",
      "metadata": {
        "id": "WySE3c8WqanW"
      },
      "source": [
        "import numpy as np, pandas as pd, matplotlib.pyplot as plt\n",
        "\n",
        "import tensorflow\n",
        "from tensorflow.keras.models import Model\n",
        "from tensorflow.keras.layers import Input, Dense, Conv2D, Flatten, Dropout, GlobalMaxPooling2D "
      ],
      "execution_count": 36,
      "outputs": []
    },
    {
      "cell_type": "code",
      "metadata": {
        "colab": {
          "base_uri": "https://localhost:8080/",
          "height": 332
        },
        "id": "_YyKeu3_lqL_",
        "outputId": "cd0d7100-76dc-452a-e761-693a05017c4a"
      },
      "source": [
        "(X_train, y_train), (X_test, y_test) = tensorflow.keras.datasets.fashion_mnist.load_data()\n",
        "print(\"X_train.shape:\", X_train.shape, \"y_train.shape:\", y_train.shape, \"X_test.shape:\", X_test.shape, \"y_test.shape:\", y_test.shape)\n",
        "N, H, W = X_train.shape\n",
        "K = len(set(y_train))\n",
        "print(\"number of classes:\", K)\n",
        "\n",
        "print(\"sample image -\")\n",
        "plt.imshow(X_train[1])\n",
        "\n",
        "X_train, X_test = X_train / 255.0, X_test / 255.0\n",
        "\n",
        "X_train = X_train.reshape(-1, 28, 28, 1)\n",
        "X_test = X_test.reshape(-1, 28, 28, 1)\n",
        "\n",
        "X_train.shape"
      ],
      "execution_count": 37,
      "outputs": [
        {
          "output_type": "stream",
          "name": "stdout",
          "text": [
            "X_train.shape: (60000, 28, 28) y_train.shape: (60000,) X_test.shape: (10000, 28, 28) y_test.shape: (10000,)\n",
            "number of classes: 10\n",
            "sample image -\n"
          ]
        },
        {
          "output_type": "execute_result",
          "data": {
            "text/plain": [
              "(60000, 28, 28, 1)"
            ]
          },
          "metadata": {},
          "execution_count": 37
        },
        {
          "output_type": "display_data",
          "data": {
            "image/png": "[encoded data removed]",
            "text/plain": [
              "<Figure size 432x288 with 1 Axes>"
            ]
          },
          "metadata": {
            "needs_background": "light"
          }
        }
      ]
    },
    {
      "cell_type": "code",
      "metadata": {
        "colab": {
          "base_uri": "https://localhost:8080/"
        },
        "id": "AQL1og9jnBZP",
        "outputId": "e360ef82-73b6-4d70-a8c3-69e5c3607ad3"
      },
      "source": [
        "i = Input(shape = (X_train[0].shape))\n",
        "x = Conv2D(32, (3,3), strides = 2, padding = 'same', activation = 'relu')(i)\n",
        "x = Conv2D(64, (3,3), strides = 2, padding = 'same', activation = 'relu')(x)\n",
        "x = Conv2D(128, (3,3), strides = 2, padding = 'same', activation = 'relu')(x)\n",
        "x = GlobalMaxPooling2D()(x)\n",
        "x = Dense(512, activation = 'relu')(x)\n",
        "x = Dropout(0.2)(x)\n",
        "x = Dense(K, activation = 'softmax')(x)\n",
        "\n",
        "model = Model(i,x)\n",
        "\n",
        "model.compile(loss = 'sparse_categorical_crossentropy', optimizer = 'adam', metrics = ['accuracy'])\n",
        "\n",
        "r = model.fit (X_train, y_train, validation_data = (X_test, y_test), epochs = 10)"
      ],
      "execution_count": 38,
      "outputs": [
        {
          "output_type": "stream",
          "name": "stdout",
          "text": [
            "Epoch 1/10\n",
            "1875/1875 [==============================] - 35s 19ms/step - loss: 0.5092 - accuracy: 0.8144 - val_loss: 0.3956 - val_accuracy: 0.8555\n",
            "Epoch 2/10\n",
            "1875/1875 [==============================] - 34s 18ms/step - loss: 0.3203 - accuracy: 0.8826 - val_loss: 0.3207 - val_accuracy: 0.8829\n",
            "Epoch 3/10\n",
            "1875/1875 [==============================] - 34s 18ms/step - loss: 0.2719 - accuracy: 0.9002 - val_loss: 0.3079 - val_accuracy: 0.8874\n",
            "Epoch 4/10\n",
            "1875/1875 [==============================] - 34s 18ms/step - loss: 0.2395 - accuracy: 0.9102 - val_loss: 0.2817 - val_accuracy: 0.8972\n",
            "Epoch 5/10\n",
            "1875/1875 [==============================] - 34s 18ms/step - loss: 0.2158 - accuracy: 0.9185 - val_loss: 0.2963 - val_accuracy: 0.8925\n",
            "Epoch 6/10\n",
            "1875/1875 [==============================] - 35s 19ms/step - loss: 0.1947 - accuracy: 0.9271 - val_loss: 0.2661 - val_accuracy: 0.9047\n",
            "Epoch 7/10\n",
            "1875/1875 [==============================] - 34s 18ms/step - loss: 0.1758 - accuracy: 0.9341 - val_loss: 0.2595 - val_accuracy: 0.9092\n",
            "Epoch 8/10\n",
            "1875/1875 [==============================] - 35s 18ms/step - loss: 0.1598 - accuracy: 0.9391 - val_loss: 0.2695 - val_accuracy: 0.9084\n",
            "Epoch 9/10\n",
            "1875/1875 [==============================] - 34s 18ms/step - loss: 0.1470 - accuracy: 0.9438 - val_loss: 0.2979 - val_accuracy: 0.9070\n",
            "Epoch 10/10\n",
            "1875/1875 [==============================] - 35s 18ms/step - loss: 0.1317 - accuracy: 0.9503 - val_loss: 0.2881 - val_accuracy: 0.9097\n"
          ]
        }
      ]
    },
    {
      "cell_type": "code",
      "metadata": {
        "colab": {
          "base_uri": "https://localhost:8080/",
          "height": 265
        },
        "id": "ZJjkuU2zp_8G",
        "outputId": "229fd3f1-ecac-4a27-e85b-7e7b1d85eee9"
      },
      "source": [
        "plt.subplot(1,2,1)\n",
        "plt.plot(r.history['loss'], label = 'loss')\n",
        "plt.plot(r.history['val_loss'], label = 'val_loss')\n",
        "plt.legend()\n",
        "\n",
        "plt.subplot(1,2,2)\n",
        "plt.plot(r.history['accuracy'], label = 'accuracy')\n",
        "plt.plot(r.history['val_accuracy'], label = 'val_accuracy')\n",
        "plt.legend()\n",
        "\n",
        "plt.show()"
      ],
      "execution_count": 39,
      "outputs": [
        {
          "output_type": "display_data",
          "data": {
            "image/png": "[encoded data removed]",
            "text/plain": [
              "<Figure size 432x288 with 2 Axes>"
            ]
          },
          "metadata": {
            "needs_background": "light"
          }
        }
      ]
    },
    {
      "cell_type": "code",
      "metadata": {
        "colab": {
          "base_uri": "https://localhost:8080/"
        },
        "id": "If5LI2FaqX53",
        "outputId": "e9358e20-219a-4aed-aa55-3a80708bd4d1"
      },
      "source": [
        "p_test = model.predict(X_test).argmax(axis=1)\n",
        "\n",
        "from sklearn.metrics import confusion_matrix\n",
        "confusion_matrix(y_test, p_test)"
      ],
      "execution_count": 40,
      "outputs": [
        {
          "output_type": "execute_result",
          "data": {
            "text/plain": [
              "array([[894,   0,  17,  15,   2,   1,  61,   0,  10,   0],\n",
              "       [  1, 973,   1,  19,   1,   0,   3,   0,   2,   0],\n",
              "       [ 20,   1, 886,  10,  33,   0,  50,   0,   0,   0],\n",
              "       [ 22,   1,   8, 918,  25,   1,  22,   0,   3,   0],\n",
              "       [  2,   1,  88,  30, 821,   0,  57,   0,   1,   0],\n",
              "       [  0,   0,   0,   1,   0, 981,   0,  10,   1,   7],\n",
              "       [152,   1,  59,  22,  48,   0, 709,   0,   9,   0],\n",
              "       [  0,   0,   0,   0,   0,  16,   0, 967,   1,  16],\n",
              "       [  0,   0,   3,   3,   3,   2,   3,   0, 985,   1],\n",
              "       [  1,   0,   0,   0,   0,   7,   0,  29,   0, 963]])"
            ]
          },
          "metadata": {},
          "execution_count": 40
        }
      ]
    },
    {
      "cell_type": "code",
      "metadata": {
        "colab": {
          "base_uri": "https://localhost:8080/",
          "height": 281
        },
        "id": "CGo-RkskvHl8",
        "outputId": "a48c13a4-5a17-4d90-d91d-fb3579ab96b3"
      },
      "source": [
        "# Label mapping\n",
        "labels = [\"T-shirt/top\", \"Trouser\", \"Pullover\", \"Dress\", \"Coat\", \"Sandal\", \"Shirt\", \"Sneaker\", \"Bag\", \"Ankle boot\"]\n",
        "\n",
        "# Show some misclassified examples\n",
        "misclassified_idx = np.where(p_test != y_test)[0]\n",
        "i = np.random.choice(misclassified_idx)\n",
        "plt.imshow(X_test[i].reshape(28,28), cmap='gray')\n",
        "plt.title(\"True label: %s Predicted: %s\" % (labels[y_test[i]], labels[p_test[i]]));"
      ],
      "execution_count": 41,
      "outputs": [
        {
          "output_type": "display_data",
          "data": {
            "image/png": "[encoded data removed]",
            "text/plain": [
              "<Figure size 432x288 with 1 Axes>"
            ]
          },
          "metadata": {
            "needs_background": "light"
          }
        }
      ]
    }
  ]
}