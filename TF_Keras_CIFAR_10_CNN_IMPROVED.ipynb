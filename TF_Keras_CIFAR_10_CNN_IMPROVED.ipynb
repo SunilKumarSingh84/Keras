{
  "nbformat": 4,
  "nbformat_minor": 0,
  "metadata": {
    "colab": {
      "name": "TF Keras CIFAR-10 CNN IMPROVED.ipynb",
      "provenance": [],
      "authorship_tag": "ABX9TyNNCH82E3hAE3rMZaV107px",
      "include_colab_link": true
    },
    "kernelspec": {
      "name": "python3",
      "display_name": "Python 3"
    },
    "language_info": {
      "name": "python"
    },
    "accelerator": "GPU"
  },
  "cells": [
    {
      "cell_type": "markdown",
      "metadata": {
        "id": "view-in-github",
        "colab_type": "text"
      },
      "source": [
        "<a href=\"https://colab.research.google.com/github/SunilKumarSingh84/Keras/blob/main/TF_Keras_CIFAR_10_CNN_IMPROVED.ipynb\" target=\"_parent\"><img src=\"https://colab.research.google.com/assets/colab-badge.svg\" alt=\"Open In Colab\"/></a>"
      ]
    },
    {
      "cell_type": "code",
      "metadata": {
        "id": "KWWeuwOSf1hH"
      },
      "source": [
        "import numpy as np, pandas as pd, matplotlib.pyplot as plt\n",
        "import tensorflow\n",
        "from tensorflow.keras.models import Model\n",
        "from tensorflow.keras.layers import Input, Dense, Conv2D, MaxPooling2D, Flatten, GlobalMaxPooling2D, Dropout, BatchNormalization"
      ],
      "execution_count": 2,
      "outputs": []
    },
    {
      "cell_type": "code",
      "metadata": {
        "colab": {
          "base_uri": "https://localhost:8080/",
          "height": 367
        },
        "id": "C8S41XAkf3bQ",
        "outputId": "2bae8952-50c5-46d3-de91-c7eb4acfcf8f"
      },
      "source": [
        "(x_train, y_train), (x_test, y_test) = tensorflow.keras.datasets.cifar10.load_data()\n",
        "print(x_train.shape, y_train.shape, x_test.shape, y_test.shape)\n",
        "plt.imshow(x_train[1])\n",
        "\n",
        "y_train, y_test = y_train.flatten(), y_test.flatten()  # Need y to be a vector of (50000,) and not (50000,1)\n",
        "x_train, x_test = x_train/255.0, x_test/255.0\n",
        "print(x_train.shape, y_train.shape, x_test.shape, y_test.shape)\n",
        "\n",
        "N, H, W, C = x_train.shape\n",
        "K = len(set(y_train))\n",
        "print(\"lables=\", K)"
      ],
      "execution_count": 3,
      "outputs": [
        {
          "output_type": "stream",
          "name": "stdout",
          "text": [
            "Downloading data from https://www.cs.toronto.edu/~kriz/cifar-10-python.tar.gz\n",
            "170500096/170498071 [==============================] - 11s 0us/step\n",
            "170508288/170498071 [==============================] - 11s 0us/step\n",
            "(50000, 32, 32, 3) (50000, 1) (10000, 32, 32, 3) (10000, 1)\n",
            "(50000, 32, 32, 3) (50000,) (10000, 32, 32, 3) (10000,)\n",
            "lables= 10\n"
          ]
        },
        {
          "output_type": "display_data",
          "data": {
            "image/png": "[encoded data removed]",
            "text/plain": [
              "<Figure size 432x288 with 1 Axes>"
            ]
          },
          "metadata": {
            "needs_background": "light"
          }
        }
      ]
    },
    {
      "cell_type": "code",
      "metadata": {
        "id": "x-0gFtJrf89H"
      },
      "source": [
        "i = Input(shape = x_train[0].shape)\n",
        "x = Conv2D(32, (3, 3), activation='relu', padding='same')(i) # Conv without stride and with Pooling (after 2 Conv as in VGG), padding = 'same'\n",
        "x = BatchNormalization()(x)\n",
        "x = Conv2D(32, (3, 3), activation='relu', padding='same')(x)\n",
        "x = BatchNormalization()(x)\n",
        "x = MaxPooling2D((2, 2))(x)\n",
        "\n",
        "x = Conv2D(64, (3, 3), activation='relu', padding='same')(x)\n",
        "x = BatchNormalization()(x)\n",
        "x = Conv2D(64, (3, 3), activation='relu', padding='same')(x)\n",
        "x = BatchNormalization()(x)\n",
        "x = MaxPooling2D((2, 2))(x)\n",
        "\n",
        "x = Conv2D(128, (3, 3), activation='relu', padding='same')(x)\n",
        "x = BatchNormalization()(x)\n",
        "x = Conv2D(128, (3, 3), activation='relu', padding='same')(x)\n",
        "x = BatchNormalization()(x)\n",
        "x = MaxPooling2D((2, 2))(x)\n",
        "\n",
        "#x = GlobalMaxPooling2D()(x)\n",
        "x = Flatten()(x)\n",
        "x = Dropout(0.2)(x)\n",
        "x = Dense(1024, activation='relu')(x)\n",
        "x = Dropout(0.2)(x)\n",
        "x = Dense(K, activation='softmax')(x)\n",
        "\n",
        "model = Model(i, x)\n",
        "model.compile(loss = 'sparse_categorical_crossentropy', optimizer = 'adam', metrics = ['accuracy'])\n",
        "#r = model.fit(x_train, y_train, validation_data=(x_test, y_test), epochs = 15)"
      ],
      "execution_count": 4,
      "outputs": []
    },
    {
      "cell_type": "code",
      "metadata": {
        "colab": {
          "base_uri": "https://localhost:8080/"
        },
        "id": "AYk9TQcMh3GV",
        "outputId": "8bb0cd32-f741-411e-b4f2-ade8a83389f5"
      },
      "source": [
        "# Fit with data augmentation\n",
        "batch_size = 32\n",
        "steps_per_epoch = x_train.shape[0] // batch_size # N/batch_size = #batches or #times iterator runs in 1 epoch\n",
        "\n",
        "data_generator = tensorflow.keras.preprocessing.image.ImageDataGenerator(width_shift_range=0.1, height_shift_range=0.1, horizontal_flip=True)\n",
        "train_generator = data_generator.flow(x_train, y_train, batch_size)\n",
        "\n",
        "r = model.fit_generator(train_generator, validation_data=(x_test, y_test), steps_per_epoch=steps_per_epoch, epochs=15)"
      ],
      "execution_count": 6,
      "outputs": [
        {
          "output_type": "stream",
          "name": "stdout",
          "text": [
            "Epoch 1/15\n",
            "1562/1562 [==============================] - 49s 32ms/step - loss: 0.8307 - accuracy: 0.7171 - val_loss: 1.0137 - val_accuracy: 0.6891\n",
            "Epoch 2/15\n",
            "1562/1562 [==============================] - 49s 31ms/step - loss: 0.7471 - accuracy: 0.7472 - val_loss: 0.6642 - val_accuracy: 0.7778\n",
            "Epoch 3/15\n",
            "1562/1562 [==============================] - 49s 31ms/step - loss: 0.6849 - accuracy: 0.7675 - val_loss: 0.7574 - val_accuracy: 0.7570\n",
            "Epoch 4/15\n",
            "1562/1562 [==============================] - 50s 32ms/step - loss: 0.6334 - accuracy: 0.7874 - val_loss: 0.6304 - val_accuracy: 0.7887\n",
            "Epoch 5/15\n",
            "1562/1562 [==============================] - 50s 32ms/step - loss: 0.5921 - accuracy: 0.7988 - val_loss: 0.6952 - val_accuracy: 0.7778\n",
            "Epoch 6/15\n",
            "1562/1562 [==============================] - 50s 32ms/step - loss: 0.5559 - accuracy: 0.8109 - val_loss: 0.5337 - val_accuracy: 0.8229\n",
            "Epoch 7/15\n",
            "1562/1562 [==============================] - 49s 32ms/step - loss: 0.5199 - accuracy: 0.8245 - val_loss: 0.6138 - val_accuracy: 0.7953\n",
            "Epoch 8/15\n",
            "1562/1562 [==============================] - 50s 32ms/step - loss: 0.4901 - accuracy: 0.8334 - val_loss: 0.5286 - val_accuracy: 0.8248\n",
            "Epoch 9/15\n",
            "1562/1562 [==============================] - 50s 32ms/step - loss: 0.4703 - accuracy: 0.8402 - val_loss: 0.4537 - val_accuracy: 0.8477\n",
            "Epoch 10/15\n",
            "1562/1562 [==============================] - 49s 32ms/step - loss: 0.4489 - accuracy: 0.8458 - val_loss: 0.4549 - val_accuracy: 0.8478\n",
            "Epoch 11/15\n",
            "1562/1562 [==============================] - 50s 32ms/step - loss: 0.4289 - accuracy: 0.8542 - val_loss: 0.4700 - val_accuracy: 0.8408\n",
            "Epoch 12/15\n",
            "1562/1562 [==============================] - 50s 32ms/step - loss: 0.4059 - accuracy: 0.8608 - val_loss: 0.5228 - val_accuracy: 0.8294\n",
            "Epoch 13/15\n",
            "1562/1562 [==============================] - 49s 32ms/step - loss: 0.3860 - accuracy: 0.8692 - val_loss: 0.4781 - val_accuracy: 0.8438\n",
            "Epoch 14/15\n",
            "1562/1562 [==============================] - 50s 32ms/step - loss: 0.3777 - accuracy: 0.8702 - val_loss: 0.4928 - val_accuracy: 0.8400\n",
            "Epoch 15/15\n",
            "1562/1562 [==============================] - 50s 32ms/step - loss: 0.3650 - accuracy: 0.8740 - val_loss: 0.5151 - val_accuracy: 0.8293\n"
          ]
        }
      ]
    },
    {
      "cell_type": "code",
      "metadata": {
        "colab": {
          "base_uri": "https://localhost:8080/",
          "height": 265
        },
        "id": "VNsUkWLVir2j",
        "outputId": "39a2f3a4-0327-4d36-b80d-e9cf927c1d6c"
      },
      "source": [
        "plt.subplot(1,2,1)\n",
        "plt.plot(r.history['loss'], label = 'loss')\n",
        "plt.plot(r.history['val_loss'], label = 'val_loss')\n",
        "plt.legend()\n",
        "\n",
        "plt.subplot(1,2,2)\n",
        "plt.plot(r.history['accuracy'], label = 'accuracy')\n",
        "plt.plot(r.history['val_accuracy'], label = 'val_accuracy')\n",
        "plt.legend()\n",
        "\n",
        "plt.show()"
      ],
      "execution_count": 7,
      "outputs": [
        {
          "output_type": "display_data",
          "data": {
            "image/png": "[encoded data removed]",
            "text/plain": [
              "<Figure size 432x288 with 2 Axes>"
            ]
          },
          "metadata": {
            "needs_background": "light"
          }
        }
      ]
    },
    {
      "cell_type": "code",
      "metadata": {
        "colab": {
          "base_uri": "https://localhost:8080/"
        },
        "id": "DJQEUhU3inKL",
        "outputId": "e3085f82-6fc9-4aba-a623-ad0468bd6523"
      },
      "source": [
        "p_test = model.predict(x_test).argmax(axis=1)\n",
        "\n",
        "from sklearn.metrics import confusion_matrix\n",
        "confusion_matrix(y_test, p_test)"
      ],
      "execution_count": 8,
      "outputs": [
        {
          "output_type": "execute_result",
          "data": {
            "text/plain": [
              "array([[834,  12,  24,  45,   9,   1,  10,   0,  52,  13],\n",
              "       [  4, 962,   2,   4,   0,   0,   2,   0,  14,  12],\n",
              "       [ 42,   1, 686,  93,  34,  43,  87,   8,   5,   1],\n",
              "       [  9,   2,  17, 838,  21,  60,  45,   1,   4,   3],\n",
              "       [  2,   1,  19,  81, 782,  12,  94,   6,   2,   1],\n",
              "       [  3,   2,  12, 220,  21, 698,  31,  10,   1,   2],\n",
              "       [  2,   1,  11,  53,   3,   3, 926,   0,   1,   0],\n",
              "       [  9,   1,  15,  69,  64,  46,  14, 771,   6,   5],\n",
              "       [ 22,  10,   2,  22,   3,   0,   7,   0, 913,  21],\n",
              "       [ 14,  66,   0,  18,   1,   3,   5,   1,   9, 883]])"
            ]
          },
          "metadata": {},
          "execution_count": 8
        }
      ]
    },
    {
      "cell_type": "code",
      "metadata": {
        "colab": {
          "base_uri": "https://localhost:8080/",
          "height": 281
        },
        "id": "ShVYyzGsipG7",
        "outputId": "8d941619-14c4-4939-d067-cb584af3c0a1"
      },
      "source": [
        "# label mapping\n",
        "labels = [\"airplane\",\"automobile\",\"bird\",\"cat\",\"deer\",\"dog\",\"frog\",\"horse\",\"ship\",\"truck\"]\n",
        "misclassified_idx = np.where(p_test != y_test)[0]\n",
        "i = np.random.choice(misclassified_idx)\n",
        "plt.imshow(x_test[i])\n",
        "plt.title(\"True label: %s Predicted: %s\" % (labels[y_test[i]], labels[p_test[i]]));"
      ],
      "execution_count": 10,
      "outputs": [
        {
          "output_type": "display_data",
          "data": {
            "image/png": "[encoded data removed]",
            "text/plain": [
              "<Figure size 432x288 with 1 Axes>"
            ]
          },
          "metadata": {
            "needs_background": "light"
          }
        }
      ]
    },
    {
      "cell_type": "code",
      "metadata": {
        "colab": {
          "base_uri": "https://localhost:8080/"
        },
        "id": "gSc-rXGWiuM6",
        "outputId": "8a9e1e14-3bd1-4102-defb-be47887a67f4"
      },
      "source": [
        "model.summary()"
      ],
      "execution_count": 4,
      "outputs": [
        {
          "output_type": "stream",
          "name": "stdout",
          "text": [
            "Model: \"model\"\n",
            "_________________________________________________________________\n",
            "Layer (type)                 Output Shape              Param #   \n",
            "=================================================================\n",
            "input_1 (InputLayer)         [(None, 32, 32, 3)]       0         \n",
            "_________________________________________________________________\n",
            "conv2d (Conv2D)              (None, 32, 32, 32)        896       \n",
            "_________________________________________________________________\n",
            "batch_normalization (BatchNo (None, 32, 32, 32)        128       \n",
            "_________________________________________________________________\n",
            "conv2d_1 (Conv2D)            (None, 32, 32, 32)        9248      \n",
            "_________________________________________________________________\n",
            "batch_normalization_1 (Batch (None, 32, 32, 32)        128       \n",
            "_________________________________________________________________\n",
            "max_pooling2d (MaxPooling2D) (None, 16, 16, 32)        0         \n",
            "_________________________________________________________________\n",
            "conv2d_2 (Conv2D)            (None, 16, 16, 64)        18496     \n",
            "_________________________________________________________________\n",
            "batch_normalization_2 (Batch (None, 16, 16, 64)        256       \n",
            "_________________________________________________________________\n",
            "conv2d_3 (Conv2D)            (None, 16, 16, 64)        36928     \n",
            "_________________________________________________________________\n",
            "batch_normalization_3 (Batch (None, 16, 16, 64)        256       \n",
            "_________________________________________________________________\n",
            "max_pooling2d_1 (MaxPooling2 (None, 8, 8, 64)          0         \n",
            "_________________________________________________________________\n",
            "conv2d_4 (Conv2D)            (None, 8, 8, 128)         73856     \n",
            "_________________________________________________________________\n",
            "batch_normalization_4 (Batch (None, 8, 8, 128)         512       \n",
            "_________________________________________________________________\n",
            "conv2d_5 (Conv2D)            (None, 8, 8, 128)         147584    \n",
            "_________________________________________________________________\n",
            "batch_normalization_5 (Batch (None, 8, 8, 128)         512       \n",
            "_________________________________________________________________\n",
            "max_pooling2d_2 (MaxPooling2 (None, 4, 4, 128)         0         \n",
            "_________________________________________________________________\n",
            "flatten (Flatten)            (None, 2048)              0         \n",
            "_________________________________________________________________\n",
            "dropout (Dropout)            (None, 2048)              0         \n",
            "_________________________________________________________________\n",
            "dense (Dense)                (None, 1024)              2098176   \n",
            "_________________________________________________________________\n",
            "dropout_1 (Dropout)          (None, 1024)              0         \n",
            "_________________________________________________________________\n",
            "dense_1 (Dense)              (None, 10)                10250     \n",
            "=================================================================\n",
            "Total params: 2,397,226\n",
            "Trainable params: 2,396,330\n",
            "Non-trainable params: 896\n",
            "_________________________________________________________________\n"
          ]
        }
      ]
    }
  ]
}